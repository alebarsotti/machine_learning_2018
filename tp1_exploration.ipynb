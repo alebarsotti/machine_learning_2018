{
 "cells": [
  {
   "cell_type": "markdown",
   "metadata": {},
   "source": [
    "# Data Description"
   ]
  },
  {
   "cell_type": "markdown",
   "metadata": {},
   "source": [
    "## Variables no utilizadas\n",
    "\n",
    "### Id (primera columna sin nombre)\n",
    "\n",
    "Identificación del registro en el dataset.\n",
    "\n",
    "- Tipo de variable: numérica.\n",
    "- No se utilizará como variable porque no aporta información sobre el diamante en sí, y facilitaría el sobreentrenamiento de los modelos que utilicemos.\n",
    "\n",
    "---\n",
    "\n",
    "## Variables de entrada\n",
    "\n",
    "### Quilate (carat)\n",
    "\n",
    "Peso en quilates del diamante. Un quilate equivale a 0,2 gramos. Junto al corte, color y claridad, forman lo que se denomina \"4C\": el conjunto de características más importantes a la hora de evaluar la calidad de un diamante.\n",
    "\n",
    "- Tipo de variable: numérica.\n",
    "- Transformaciones: ninguna.\n",
    "\n",
    "### Corte (cut)\n",
    "\n",
    "Etiqueta que indica la calidad del corte del diamante. El corte es la más importante de las \"4C\" porque es la característica que tiene mayor influencia en el brillo del diamante.\n",
    "\n",
    "![Diamond Cut](images/diamond_cut.gif)\n",
    "\n",
    "- Tipo de variable: categórica.\n",
    "- Etiquetas posibles (orden creciente): Fair, Good, Very Good, Premium, Ideal.\n",
    "- Transformaciones: \n",
    "\n",
    "### Color (color)\n",
    "\n",
    "Color del diamante. Es la segunda característica más importante de un diamante, debido a que es lo que el ojo nota luego del destello. El grado de color del diamante, en realidad, se refiere a la ausencia de color en el mismo.\n",
    "\n",
    "![Diamond Color](images/diamond_color.png)\n",
    "\n",
    "- Tipo de variable: categórica.\n",
    "- Etiquetas posibles (orden creciente): J, I, H, G, F, E, D.\n",
    "- Transformaciones: \n",
    "\n",
    "### Claridad (clarity)\n",
    "\n",
    "Etiqueta que indica qué tan visibles son las imperfecciones y/o inclusiones del diamante. Las imperfecciones son pequeñas características de la superficie del diamante, mientras que las inclusiones se refieren a características internas del mismo. \n",
    "La claridad es la menos importante de las 4C. Esto se debe a que las inclusiones son microscópicas y, por ende, no afectan la belleza del diamante de una forma visible.\n",
    "\n",
    "![Diamond Clarity](images/diamond_clarity.jpg)\n",
    "\n",
    "- Tipo de variable: categórica.\n",
    "- Etiquetas posibles (orden creciente): I3, I2, I1, SI2, SI1, VS2, VS1, VVS2, VVS1, IF, FL. No hay ejemplos en el dataset de claridad tipo I3, I2 y FL.\n",
    "- Transformaciones: \n",
    "\n",
    "### Porcentaje de profundidad (depth)\n",
    "\n",
    "Porcentaje de profundidad obtenido dividiendo la altura de un diamante, medida desde el culet hasta la tabla, por su diámetro de filetín promedio. Contribuye a la apariencia, el brillo y el fuego del diamante.\n",
    "\n",
    "![Diamond Parts](images/diamond_parts.gif)\n",
    "\n",
    "- Tipo de variable: numérica.\n",
    "- Transformaciones: ninguna.\n",
    "\n",
    "### Tabla (table)\n",
    "\n",
    "El ancho de la tabla expresado como un porcentaje del diámetro promedio del diamante. Medida esencial para el rendimiento ante la luz de un diamante\n",
    "\n",
    "- Tipo de variable: numérica.\n",
    "- Transformaciones: ninguna.\n",
    "\n",
    "### Longitud (x)\n",
    "\n",
    "Longitud en milímetros del diamante.\n",
    "\n",
    "- Tipo de variable: numérica.\n",
    "- Transformaciones: ninguna.\n",
    "\n",
    "### Ancho (y)\n",
    "\n",
    "Ancho en milímetros del diamante.\n",
    "\n",
    "- Tipo de variable: numérica.\n",
    "- Transformaciones: ninguna.\n",
    "\n",
    "### Profundidad (z)\n",
    "\n",
    "Profundidad en milímetros del diamante.\n",
    "\n",
    "- Tipo de variable: numérica.\n",
    "- Transformaciones: ninguna.\n",
    "\n",
    "---\n",
    "\n",
    "## Variable de salida\n",
    "\n",
    "### Precio (price)\n",
    "\n",
    "Precio del diamante expresado en dólares (EEUU).\n",
    "\n",
    "- Tipo de variable: categórica.\n",
    "- Transformaciones: \n",
    "    1. Crear una nueva columna, llamada \"price_category\", que representa las etiquetas correspondientes al rango de precio al que pertenezcan los precios de los diamantes. **Esta nueva columna será la variable de salida a predecir**.\n",
    "    2. \n",
    "- Etiquetas posibles: Menor a 1000, Entre 1000 y 3000, Entre 3000 y 6000, Entre 6000 y 10000, Mayor a 10000."
   ]
  },
  {
   "cell_type": "markdown",
   "metadata": {},
   "source": [
    "# Descripción de los datos"
   ]
  },
  {
   "cell_type": "code",
   "execution_count": null,
   "metadata": {},
   "outputs": [],
   "source": [
    "import pandas as pd\n",
    "import numpy as np\n",
    "%matplotlib inline\n",
    "import matplotlib.pyplot as plt\n",
    "import seaborn as sbn\n",
    "plt.rcParams['figure.figsize'] = 16, 6"
   ]
  },
  {
   "cell_type": "code",
   "execution_count": null,
   "metadata": {},
   "outputs": [],
   "source": [
    "# Cargar dataset\n",
    "dataset = pd.read_csv('data/diamonds.csv', index_col=0)"
   ]
  },
  {
   "cell_type": "markdown",
   "metadata": {},
   "source": [
    "#### Forma del dataset"
   ]
  },
  {
   "cell_type": "code",
   "execution_count": null,
   "metadata": {},
   "outputs": [],
   "source": [
    "filas, columnas = dataset.shape\n",
    "print(f'El dataset tiene {filas} filas y {columnas} columnas.')"
   ]
  },
  {
   "cell_type": "markdown",
   "metadata": {},
   "source": [
    "#### Primeras filas del dataset"
   ]
  },
  {
   "cell_type": "code",
   "execution_count": null,
   "metadata": {},
   "outputs": [],
   "source": [
    "dataset.head()"
   ]
  },
  {
   "cell_type": "markdown",
   "metadata": {},
   "source": [
    "#### Métricas de las variables numéricas del dataset"
   ]
  },
  {
   "cell_type": "code",
   "execution_count": null,
   "metadata": {},
   "outputs": [],
   "source": [
    "dataset.describe()"
   ]
  },
  {
   "cell_type": "markdown",
   "metadata": {},
   "source": [
    "#### Cantidad de valores nulos por atributo del dataset"
   ]
  },
  {
   "cell_type": "code",
   "execution_count": null,
   "metadata": {},
   "outputs": [],
   "source": [
    "dataset.isnull().sum().to_frame('Cantidad de valores Nulos')"
   ]
  },
  {
   "cell_type": "markdown",
   "metadata": {},
   "source": [
    "#### Histograma de precios del dataset"
   ]
  },
  {
   "cell_type": "code",
   "execution_count": null,
   "metadata": {},
   "outputs": [],
   "source": [
    "ax = dataset.price.plot.hist(bins=50, title='Histograma de precios del dataset', grid=True)\n",
    "ax.title.set_size(20)\n",
    "ax.set_xlabel('Precio (Dólares)', fontsize=12)\n",
    "ax.set_ylabel('Frecuencia', fontsize=12);"
   ]
  },
  {
   "cell_type": "markdown",
   "metadata": {},
   "source": [
    "#### Transformación de la variable de salida Precio"
   ]
  },
  {
   "cell_type": "code",
   "execution_count": null,
   "metadata": {},
   "outputs": [],
   "source": [
    "dataset.price.quantile([0, 0.2, 0.4, 0.6, 0.8, 1]).to_frame('Precio')"
   ]
  },
  {
   "cell_type": "code",
   "execution_count": null,
   "metadata": {},
   "outputs": [],
   "source": [
    "price_category_labels = [\n",
    "    'Menor a 1000', \n",
    "    'Entre 1000 y 3000', \n",
    "    'Entre 3000 y 6000', \n",
    "    'Entre 6000 y 10000', \n",
    "    'Mayor a 10000'\n",
    "]\n",
    "price_limits = [0, 1000, 3000, 6000, 10000, 20000]\n",
    "\n",
    "dataset['price_category'] = pd.cut(dataset.price, price_limits, labels=price_category_labels)"
   ]
  },
  {
   "cell_type": "markdown",
   "metadata": {},
   "source": [
    "# Análisis detallado de variables"
   ]
  },
  {
   "cell_type": "markdown",
   "metadata": {},
   "source": [
    "### Balanceo de la variable de salida"
   ]
  },
  {
   "cell_type": "code",
   "execution_count": null,
   "metadata": {},
   "outputs": [],
   "source": [
    "ax = dataset.price_category.value_counts().plot.pie(autopct='%1.0f%%', figsize=(10,10))\n",
    "ax.set_ylabel('')\n",
    "ax.set_title('Balanceo de etiquetas de Precios', fontsize=20);"
   ]
  },
  {
   "cell_type": "markdown",
   "metadata": {},
   "source": [
    "Como se observa en el gráfico, en general, la proporción de instancias en cada categoría es similar y no debería afectar a los modelos clasificadores que utilicemos. \n",
    "\n",
    "La excepción se encuentra marcada en las etiquetas \"Entre 6000 y 10000\" y \"Mayor a 10000\". Se decidió efectuar esta subdivisión ya que, si bien la proporción era adecuada para la división (22%), el rango de precios que comprendía era demasiado amplio y perdía sentido interpretativo."
   ]
  },
  {
   "cell_type": "markdown",
   "metadata": {},
   "source": [
    "## Comportamiento de variables de entrada y relación con variable de salida"
   ]
  },
  {
   "cell_type": "markdown",
   "metadata": {},
   "source": [
    "### Quilates"
   ]
  },
  {
   "cell_type": "code",
   "execution_count": null,
   "metadata": {},
   "outputs": [],
   "source": [
    "_, data = dataset.boxplot(column=['carat'], return_type='both', vert=False, figsize=(16, 4));"
   ]
  },
  {
   "cell_type": "code",
   "execution_count": null,
   "metadata": {},
   "outputs": [],
   "source": [
    "outliers = len(data['fliers'][0].get_xdata())\n",
    "print(f'Cantidad de valores atípicos: {outliers}')\n",
    "print(f'Porcentaje de valores atípicos: {outliers / dataset.shape[0] * 100:.2f}%')"
   ]
  },
  {
   "cell_type": "code",
   "execution_count": null,
   "metadata": {},
   "outputs": [],
   "source": [
    "dataset.boxplot(column=['carat'], by='price_category');"
   ]
  },
  {
   "cell_type": "code",
   "execution_count": null,
   "metadata": {},
   "outputs": [],
   "source": [
    "carat_dataframe = pd.DataFrame()\n",
    "carat_dataframe['price'] = dataset['price']\n",
    "carat_limits = [0, 0.4, 0.6, 0.8, 1, 2, 3, 4, 5, 6]\n",
    "carat_dataframe['carat_range'] = pd.cut(dataset.carat, carat_limits)\n",
    "ax = carat_dataframe.groupby(['carat_range',]).mean()[['price',]].plot.bar(rot=0, legend=False, grid=True)\n",
    "ax.set_title('Precio promedio por rango de quilates', fontsize=20)\n",
    "ax.set_xlabel('Rango de Quilates', fontsize=12)\n",
    "ax.set_ylabel('Precio promedio', fontsize=12);"
   ]
  },
  {
   "cell_type": "markdown",
   "metadata": {},
   "source": [
    "### Corte"
   ]
  },
  {
   "cell_type": "code",
   "execution_count": null,
   "metadata": {},
   "outputs": [],
   "source": [
    "dataset.cut.value_counts().plot.pie(autopct='%1.0f%%');"
   ]
  },
  {
   "cell_type": "code",
   "execution_count": null,
   "metadata": {},
   "outputs": [],
   "source": [
    "cut_order = ['Fair', 'Good', 'Very Good', 'Premium', 'Ideal']\n",
    "\n",
    "dataset.groupby(['cut', 'price_category',]).size().unstack().reindex(cut_order).T.plot.bar(stacked=True, rot=45);"
   ]
  },
  {
   "cell_type": "code",
   "execution_count": null,
   "metadata": {},
   "outputs": [],
   "source": [
    "dataset.groupby(['cut',]).mean()[['price']].reindex(cut_order).plot.bar();"
   ]
  },
  {
   "cell_type": "code",
   "execution_count": null,
   "metadata": {},
   "outputs": [],
   "source": [
    "dataset.groupby(['cut',]).mean"
   ]
  },
  {
   "cell_type": "markdown",
   "metadata": {},
   "source": [
    "### Color"
   ]
  },
  {
   "cell_type": "code",
   "execution_count": null,
   "metadata": {},
   "outputs": [],
   "source": [
    "color_order = ['J', 'I', 'H', 'G', 'F', 'E', 'D', ]\n",
    "dataset.color.value_counts().reindex(color_order).plot.pie(autopct='%1.0f%%');"
   ]
  },
  {
   "cell_type": "code",
   "execution_count": null,
   "metadata": {},
   "outputs": [],
   "source": [
    "dataset.groupby(['color', 'price_category',]).size().unstack().reindex(color_order).T.plot.bar(stacked=True, rot=45);"
   ]
  },
  {
   "cell_type": "markdown",
   "metadata": {},
   "source": [
    "### Claridad"
   ]
  },
  {
   "cell_type": "code",
   "execution_count": null,
   "metadata": {},
   "outputs": [],
   "source": [
    "clarity_order = ['I1', 'SI2', 'SI1', 'VS2', 'VS1', 'VVS2', 'VVS1', 'IF']\n",
    "dataset.clarity.value_counts().reindex(clarity_order).plot.pie(autopct='%1.0f%%');"
   ]
  },
  {
   "cell_type": "code",
   "execution_count": null,
   "metadata": {},
   "outputs": [],
   "source": [
    "dataset.groupby(['clarity', 'price_category',]).size().unstack().reindex(clarity_order).T.plot.bar(stacked=True, rot=45);"
   ]
  },
  {
   "cell_type": "markdown",
   "metadata": {},
   "source": [
    "### Porcentaje de profundidad"
   ]
  },
  {
   "cell_type": "code",
   "execution_count": null,
   "metadata": {},
   "outputs": [],
   "source": [
    "_, data_depth = dataset.boxplot(column=['depth'], return_type='both', vert=False, figsize=(16, 4));"
   ]
  },
  {
   "cell_type": "code",
   "execution_count": null,
   "metadata": {},
   "outputs": [],
   "source": [
    "outliers_depth = len(data_depth['fliers'][0].get_xdata())\n",
    "print(f'Cantidad de valores atípicos: {outliers_depth}')\n",
    "print(f'Porcentaje de valores atípicos: {outliers_depth / dataset.shape[0] * 100:.2f}%')"
   ]
  },
  {
   "cell_type": "code",
   "execution_count": null,
   "metadata": {},
   "outputs": [],
   "source": [
    "dataset.boxplot(column=['depth'], by='price_category');"
   ]
  }
 ],
 "metadata": {
  "kernelspec": {
   "display_name": "Python 3",
   "language": "python",
   "name": "python3"
  },
  "language_info": {
   "codemirror_mode": {
    "name": "ipython",
    "version": 3
   },
   "file_extension": ".py",
   "mimetype": "text/x-python",
   "name": "python",
   "nbconvert_exporter": "python",
   "pygments_lexer": "ipython3",
   "version": "3.6.5"
  }
 },
 "nbformat": 4,
 "nbformat_minor": 2
}
